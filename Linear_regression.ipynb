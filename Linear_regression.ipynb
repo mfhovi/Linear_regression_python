{
 "cells": [
  {
   "cell_type": "code",
   "execution_count": 1,
   "id": "762130e1",
   "metadata": {},
   "outputs": [],
   "source": [
    "\n",
    %%importing necessary library
    "import numpy as np\n",
    "import matplotlib.pyplot as plt\n",
    "import pandas as pd"
   ]
  },
  {
   "cell_type": "code",
   "execution_count": 4,
   "id": "710231b7",
   "metadata": {},
   "outputs": [],
   "source": [
    "df = pd.read_csv('dhaka_home_prizes.csv')"
   ]
  },
  {
   "cell_type": "code",
   "execution_count": 5,
   "id": "97cabc0e",
   "metadata": {},
   "outputs": [
    {
     "data": {
      "text/html": [
       "<div>\n",
       "<style scoped>\n",
       "    .dataframe tbody tr th:only-of-type {\n",
       "        vertical-align: middle;\n",
       "    }\n",
       "\n",
       "    .dataframe tbody tr th {\n",
       "        vertical-align: top;\n",
       "    }\n",
       "\n",
       "    .dataframe thead th {\n",
       "        text-align: right;\n",
       "    }\n",
       "</style>\n",
       "<table border=\"1\" class=\"dataframe\">\n",
       "  <thead>\n",
       "    <tr style=\"text-align: right;\">\n",
       "      <th></th>\n",
       "      <th>sqft</th>\n",
       "      <th>prizes</th>\n",
       "    </tr>\n",
       "  </thead>\n",
       "  <tbody>\n",
       "    <tr>\n",
       "      <th>0</th>\n",
       "      <td>1200</td>\n",
       "      <td>18000</td>\n",
       "    </tr>\n",
       "    <tr>\n",
       "      <th>1</th>\n",
       "      <td>900</td>\n",
       "      <td>14000</td>\n",
       "    </tr>\n",
       "    <tr>\n",
       "      <th>2</th>\n",
       "      <td>1600</td>\n",
       "      <td>21000</td>\n",
       "    </tr>\n",
       "    <tr>\n",
       "      <th>3</th>\n",
       "      <td>2200</td>\n",
       "      <td>26000</td>\n",
       "    </tr>\n",
       "    <tr>\n",
       "      <th>4</th>\n",
       "      <td>1000</td>\n",
       "      <td>15000</td>\n",
       "    </tr>\n",
       "    <tr>\n",
       "      <th>5</th>\n",
       "      <td>1050</td>\n",
       "      <td>15500</td>\n",
       "    </tr>\n",
       "    <tr>\n",
       "      <th>6</th>\n",
       "      <td>1600</td>\n",
       "      <td>22000</td>\n",
       "    </tr>\n",
       "    <tr>\n",
       "      <th>7</th>\n",
       "      <td>1350</td>\n",
       "      <td>17000</td>\n",
       "    </tr>\n",
       "    <tr>\n",
       "      <th>8</th>\n",
       "      <td>1800</td>\n",
       "      <td>24000</td>\n",
       "    </tr>\n",
       "    <tr>\n",
       "      <th>9</th>\n",
       "      <td>1100</td>\n",
       "      <td>16000</td>\n",
       "    </tr>\n",
       "  </tbody>\n",
       "</table>\n",
       "</div>"
      ],
      "text/plain": [
       "   sqft  prizes\n",
       "0  1200   18000\n",
       "1   900   14000\n",
       "2  1600   21000\n",
       "3  2200   26000\n",
       "4  1000   15000\n",
       "5  1050   15500\n",
       "6  1600   22000\n",
       "7  1350   17000\n",
       "8  1800   24000\n",
       "9  1100   16000"
      ]
     },
     "execution_count": 5,
     "metadata": {},
     "output_type": "execute_result"
    }
   ],
   "source": [
    "df"
   ]
  },
  {
   "cell_type": "code",
   "execution_count": 6,
   "id": "77616d0b",
   "metadata": {},
   "outputs": [
    {
     "data": {
      "text/html": [
       "<div>\n",
       "<style scoped>\n",
       "    .dataframe tbody tr th:only-of-type {\n",
       "        vertical-align: middle;\n",
       "    }\n",
       "\n",
       "    .dataframe tbody tr th {\n",
       "        vertical-align: top;\n",
       "    }\n",
       "\n",
       "    .dataframe thead th {\n",
       "        text-align: right;\n",
       "    }\n",
       "</style>\n",
       "<table border=\"1\" class=\"dataframe\">\n",
       "  <thead>\n",
       "    <tr style=\"text-align: right;\">\n",
       "      <th></th>\n",
       "      <th>sqft</th>\n",
       "      <th>prizes</th>\n",
       "    </tr>\n",
       "  </thead>\n",
       "  <tbody>\n",
       "    <tr>\n",
       "      <th>0</th>\n",
       "      <td>1200</td>\n",
       "      <td>18000</td>\n",
       "    </tr>\n",
       "    <tr>\n",
       "      <th>1</th>\n",
       "      <td>900</td>\n",
       "      <td>14000</td>\n",
       "    </tr>\n",
       "    <tr>\n",
       "      <th>2</th>\n",
       "      <td>1600</td>\n",
       "      <td>21000</td>\n",
       "    </tr>\n",
       "    <tr>\n",
       "      <th>3</th>\n",
       "      <td>2200</td>\n",
       "      <td>26000</td>\n",
       "    </tr>\n",
       "  </tbody>\n",
       "</table>\n",
       "</div>"
      ],
      "text/plain": [
       "   sqft  prizes\n",
       "0  1200   18000\n",
       "1   900   14000\n",
       "2  1600   21000\n",
       "3  2200   26000"
      ]
     },
     "execution_count": 6,
     "metadata": {},
     "output_type": "execute_result"
    }
   ],
   "source": [
    "df.head(4)"
   ]
  },
  {
   "cell_type": "code",
   "execution_count": 7,
   "id": "04657059",
   "metadata": {},
   "outputs": [
    {
     "data": {
      "text/plain": [
       "(10, 2)"
      ]
     },
     "execution_count": 7,
     "metadata": {},
     "output_type": "execute_result"
    }
   ],
   "source": [
    "df.shape"
   ]
  },
  {
   "cell_type": "code",
   "execution_count": 8,
   "id": "c8aea563",
   "metadata": {},
   "outputs": [
    {
     "data": {
      "text/plain": [
       "sqft      False\n",
       "prizes    False\n",
       "dtype: bool"
      ]
     },
     "execution_count": 8,
     "metadata": {},
     "output_type": "execute_result"
    }
   ],
   "source": [
    "df.isnull().any()"
   ]
  },
  {
   "cell_type": "code",
   "execution_count": 9,
   "id": "863bdeef",
   "metadata": {},
   "outputs": [
    {
     "data": {
      "text/plain": [
       "sqft      0\n",
       "prizes    0\n",
       "dtype: int64"
      ]
     },
     "execution_count": 9,
     "metadata": {},
     "output_type": "execute_result"
    }
   ],
   "source": [
    "df.isnull().sum()"
   ]
  },
  {
   "cell_type": "code",
   "execution_count": 20,
   "id": "051ea71d",
   "metadata": {},
   "outputs": [],
   "source": [
    "x = df[['sqft']]\n",
    "y = df['prizes']"
   ]
  },
  {
   "cell_type": "markdown",
   "id": "b5aab519",
   "metadata": {},
   "source": [
    "# visulaization"
   ]
  },
  {
   "cell_type": "code",
   "execution_count": 24,
   "id": "1d57e19e",
   "metadata": {},
   "outputs": [
    {
     "data": {
      "text/plain": [
       "Text(0.5, 1.0, 'home prices in dhaka')"
      ]
     },
     "execution_count": 24,
     "metadata": {},
     "output_type": "execute_result"
    },
    {
     "data": {
      "image/png": "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\n",
      "text/plain": [
       "<Figure size 432x288 with 1 Axes>"
      ]
     },
     "metadata": {
      "needs_background": "light"
     },
     "output_type": "display_data"
    }
   ],
   "source": [
    "plt.scatter(x,y, marker = '+', color = 'red')\n",
    "plt.xlabel('area in sqft')\n",
    "plt.ylabel('price in taka')\n",
    "plt.title('home prices in dhaka')"
   ]
  },
  {
   "cell_type": "markdown",
   "id": "8539993f",
   "metadata": {},
   "source": [
    "# dividing data into training and testing"
   ]
  },
  {
   "cell_type": "code",
   "execution_count": 25,
   "id": "e8c55d83",
   "metadata": {},
   "outputs": [],
   "source": [
    "from sklearn.model_selection import train_test_split"
   ]
  },
  {
   "cell_type": "code",
   "execution_count": 26,
   "id": "2dd499cd",
   "metadata": {},
   "outputs": [],
   "source": [
    "xtrain, xtest, ytrain, ytest  = train_test_split(x,y, test_size = 0.3, random_state = 2)"
   ]
  },
  {
   "cell_type": "code",
   "execution_count": 27,
   "id": "6f4b5a27",
   "metadata": {},
   "outputs": [
    {
     "data": {
      "text/html": [
       "<div>\n",
       "<style scoped>\n",
       "    .dataframe tbody tr th:only-of-type {\n",
       "        vertical-align: middle;\n",
       "    }\n",
       "\n",
       "    .dataframe tbody tr th {\n",
       "        vertical-align: top;\n",
       "    }\n",
       "\n",
       "    .dataframe thead th {\n",
       "        text-align: right;\n",
       "    }\n",
       "</style>\n",
       "<table border=\"1\" class=\"dataframe\">\n",
       "  <thead>\n",
       "    <tr style=\"text-align: right;\">\n",
       "      <th></th>\n",
       "      <th>sqft</th>\n",
       "    </tr>\n",
       "  </thead>\n",
       "  <tbody>\n",
       "    <tr>\n",
       "      <th>0</th>\n",
       "      <td>1200</td>\n",
       "    </tr>\n",
       "    <tr>\n",
       "      <th>7</th>\n",
       "      <td>1350</td>\n",
       "    </tr>\n",
       "    <tr>\n",
       "      <th>2</th>\n",
       "      <td>1600</td>\n",
       "    </tr>\n",
       "    <tr>\n",
       "      <th>3</th>\n",
       "      <td>2200</td>\n",
       "    </tr>\n",
       "    <tr>\n",
       "      <th>6</th>\n",
       "      <td>1600</td>\n",
       "    </tr>\n",
       "    <tr>\n",
       "      <th>9</th>\n",
       "      <td>1100</td>\n",
       "    </tr>\n",
       "    <tr>\n",
       "      <th>8</th>\n",
       "      <td>1800</td>\n",
       "    </tr>\n",
       "  </tbody>\n",
       "</table>\n",
       "</div>"
      ],
      "text/plain": [
       "   sqft\n",
       "0  1200\n",
       "7  1350\n",
       "2  1600\n",
       "3  2200\n",
       "6  1600\n",
       "9  1100\n",
       "8  1800"
      ]
     },
     "execution_count": 27,
     "metadata": {},
     "output_type": "execute_result"
    }
   ],
   "source": [
    "xtrain"
   ]
  },
  {
   "cell_type": "code",
   "execution_count": 28,
   "id": "fb6ff565",
   "metadata": {},
   "outputs": [
    {
     "data": {
      "text/plain": [
       "0    18000\n",
       "7    17000\n",
       "2    21000\n",
       "3    26000\n",
       "6    22000\n",
       "9    16000\n",
       "8    24000\n",
       "Name: prizes, dtype: int64"
      ]
     },
     "execution_count": 28,
     "metadata": {},
     "output_type": "execute_result"
    }
   ],
   "source": [
    "ytrain"
   ]
  },
  {
   "cell_type": "markdown",
   "id": "f230d9b1",
   "metadata": {},
   "source": [
    "# importing linear regression"
   ]
  },
  {
   "cell_type": "code",
   "execution_count": 29,
   "id": "bb06ac52",
   "metadata": {},
   "outputs": [],
   "source": [
    "from sklearn.linear_model import LinearRegression"
   ]
  },
  {
   "cell_type": "code",
   "execution_count": 30,
   "id": "336031b0",
   "metadata": {},
   "outputs": [],
   "source": [
    "reg = LinearRegression()"
   ]
  },
  {
   "cell_type": "code",
   "execution_count": 31,
   "id": "70ff2340",
   "metadata": {},
   "outputs": [
    {
     "data": {
      "text/plain": [
       "LinearRegression()"
      ]
     },
     "execution_count": 31,
     "metadata": {},
     "output_type": "execute_result"
    }
   ],
   "source": [
    "reg.fit(xtrain,ytrain)"
   ]
  },
  {
   "cell_type": "code",
   "execution_count": 32,
   "id": "44d54849",
   "metadata": {},
   "outputs": [
    {
     "data": {
      "text/plain": [
       "array([15328.73851295, 14375.52213868, 15805.34670008])"
      ]
     },
     "execution_count": 32,
     "metadata": {},
     "output_type": "execute_result"
    }
   ],
   "source": [
    "reg.predict(xtest)"
   ]
  },
  {
   "cell_type": "code",
   "execution_count": 34,
   "id": "7323b07f",
   "metadata": {},
   "outputs": [
    {
     "data": {
      "text/plain": [
       "4    15000\n",
       "1    14000\n",
       "5    15500\n",
       "Name: prizes, dtype: int64"
      ]
     },
     "execution_count": 34,
     "metadata": {},
     "output_type": "execute_result"
    }
   ],
   "source": [
    "ytest"
   ]
  },
  {
   "cell_type": "code",
   "execution_count": 40,
   "id": "67819edd",
   "metadata": {},
   "outputs": [
    {
     "data": {
      "text/plain": [
       "Text(0.5, 1.0, 'home prices in dhaka')"
      ]
     },
     "execution_count": 40,
     "metadata": {},
     "output_type": "execute_result"
    },
    {
     "data": {
      "image/png": "iVBORw0KGgoAAAANSUhEUgAAAZIAAAEWCAYAAABMoxE0AAAAOXRFWHRTb2Z0d2FyZQBNYXRwbG90bGliIHZlcnNpb24zLjUuMSwgaHR0cHM6Ly9tYXRwbG90bGliLm9yZy/YYfK9AAAACXBIWXMAAAsTAAALEwEAmpwYAAAvRklEQVR4nO3deZgU1dXH8e9PQUAFRHFlERdQUVFxUFwiKC4oSTR5jSGbRk2IS+ISjRE1SjQqEiOJMWqI+LrEfedVMYKyqGERV0QwoqKgqBAQUARZzvtH1TTd48zQMNPTPTO/z/P0M3VPVXWfGug+c+tW31JEYGZmtr42KHYCZmZWv7mQmJlZjbiQmJlZjbiQmJlZjbiQmJlZjbiQmJlZjbiQWEmRNEvS4cXOo6Yk/UjS03X4etMk9a6l5xor6Wfp8k8lPb+ez9Nb0pzayMlKW5NiJ2DWEEXEXcBddfh6u9fVa5lV5B6JWS2T5D/QrFFxIbFStLek1yUtknSfpOblKyT9XNJMSQskjZC0Xda6kHSGpLclLZF0haSdJE2QtFjS/ZI2ytr+m5JelfSZpH9L6lZVQulznyXpXUnzJf1R0gbpup9KekHSUEkLgEEVTwlJ2l3SqDTvTyRdlMY3kHShpHck/TfNcfN0XXNJ/0zjn0l6UdLWVeSXOSUoaVD6PHekv4dpksqqObYjJM1If983AKpkm2slLZT0nqSjs+InS5qevs67kn5RzeucJelNSe0l7Zf+u3wmaa6kG7L/bax+cSGxUnQC0BfYAegG/BRA0mHA1en6bYH3gXsr7NsX2BfoCVwADAN+BHQA9gB+kD5Xd+BW4BfAFsDfgRGSmlWT13eAMqA7cCxwSta6/YF3ga2AK7N3ktQSGA08BWwH7Aw8k64+CzgO6JWuWwj8LV13EtA6zX0L4DTgy2ryy/Ztkt/NZsAI4IbKNpLUFngIuARoC7wDHFRhs/2Bt9L1Q4DhksqLzafAN4FWwMnA0PR3W/F1fkfy79grIuYAq4Bz0+c8AOgDnJHnsVmpiQg//CiZBzAL+HFWewhwc7o8HBiStW5TYAXQKW0HcFDW+peA32a1/wT8OV2+Cbiiwmu/RfJBV1leAfTNap8BPJMu/xT4oML2PwWeT5d/ALxSxfNOB/pktbdNj6kJSaH6N9Atz9/b4enyIGB01rquwJdV7HciMDGrLWAO8LOs45iZtX7j9HexTRXP9yhwdrrcG/gQuA54HmhdTf7nAI8U+/+fH+v3cI/EStHHWctLSQoGJH+xv1++IiI+B/4LtMva/pOs5S8raZc/1/bAeemplc8kfUbyl/92VG121vL7FbadTdU6kPylX5ntgUeycphO8tf61sCdwL+AeyV9JGmIpKbVvE62ir/D5lWM3WyXnXskn+oVj+XjrPVL08VNASQdLWliesruM+AYkl5Guc2AAcDVEbGoPCipi6THJX0saTFwVYX9rB5xIbH65COSD14AJG1Ccsrnw/V4rtnAlRGxWdZj44i4p5p9OmQtd0zzKVfdNNqzgZ2qWXd0hTyaR8SHEbEiIn4fEV2BA0lOIZ249kNbJ3PJOq70lFWHqjdfIz0N+BBwLbB1RGwGPEnuGMtCkrz/V1L2KbObgBlA54hoBVxEJWMzVj+4kFh9cjdwsqS90w+xq4BJETFrPZ7rH8BpkvZXYhNJ/dLxjKr8RlIbSR2As4H78nytx4FtJJ0jqZmklpL2T9fdDFwpaXsASVtKOjZdPlTSnpI2BBaTnPJatR7HWp0ngN0lfTftsZwFbJPnvhsBzYB5wMp0EP7IihtFxFiScapHso67JckxfS5pV+D0Gh2FFZULidUbEfEM8DuSv4LnkvyV3389n2sK8HOSQeiFwEzSQf1qPEYy7vIqyQfw8DxfawlwBPAtktNEbwOHpqv/QjIY/rSkJcBEksFtSD7QHyT5wJ0OjAP+mc9r5isi5gPfAwaTnCbsDLyQ575LSArP/SS/wx+SHEtl244iGYwfIWlf4Px0+yUkRT3fomwlSMkpUTOrjqQgOQ0zs9i5mJUa90jMzKxGXEjMzKxGfGrLzMxqxD0SMzOrkUY3uVzbtm2jU6dOxU7DzKxeeemll+ZHxJaVrWt0haRTp05MmTKl2GmYmdUrkt6vap1PbZmZWY24kJiZWY24kJiZWY24kJiZWY24kJiZWY24kJiZWY24kJiZWY24kJiZNXDzP1/On55+i8XLVhTk+RvdFxLNzBqTyx57g9snJN8lPKTLlvTotHmtv4YLiZlZA/TmR4s55vrnMu0L+u5SkCICLiRmZg3KqtXBd2/6N6/N/gyAphuKVy49kk2bFe7j3oXEzKyBeOqNuZz2z5cz7VtOLOPwrlsX/HVdSMzM6rnFy1bQbdDTmXaPTm24b8ABbLCB6uT1XUjMzOqxP4/+D38e/Xam/a9zDmGXbVrWaQ4uJGZm9dCs+V/Q+9qxmfbPDt6BS77ZtSi5uJCYmdUjEcGpt0/h2RmfZmIv/+4INt9ko6Ll5EJiZlZPvDBzPj+6ZVKmfd0Je/Hd7u2LmFGiYN9sl9RB0hhJ0yVNk3R21rpfSXorjQ/Jig+UNDNdd1RWfF9JU9N110tSGm8m6b40PklSp0Idj5lZsSxbsYruV4zKFJEdt9yEt688et2KSO/eyaMACtkjWQmcFxEvS2oJvCRpFLA1cCzQLSKWS9oKQFJXoD+wO7AdMFpSl4hYBdwEDAAmAk8CfYGRwKnAwojYWVJ/4Brg+wU8JjOzOnX7v2dx2YhpmfbDZxxI945tipjR1xWskETEXGBuurxE0nSgHfBzYHBELE/XlZ/oOxa4N42/J2kmsJ+kWUCriJgAIOkO4DiSQnIsMCjd/0HgBkmKiCjUcZmZ1YWPFy2j59XPZNrf7d6O607Ye92fqLwXMm5cbnvs2Bpkl6tOxkjSU077AJOAPwLfkHQlsAw4PyJeJCkyE7N2m5PGVqTLFeOkP2cDRMRKSYuALYD5FV5/AEmPho4dO9bmoZmZ1brzH3iNB19a87E3YeBhbNu6RREzql7BC4mkTYGHgHMiYrGkJkAboCfQA7hf0o5AZd+ciWrirGXdmkDEMGAYQFlZmXsrZlaSXp39Gcf97YVM+9JvduWUg3eo2ZOW9zwK0BMpV9BCIqkpSRG5KyIeTsNzgIfT00+TJa0G2qbxDlm7twc+SuPtK4mTtc+ctEC1BhYU6HDMzApixarVHP2X55j56ecAtGrehEkXHU6LjTYscmb5KVghSa+sGg5Mj4jrslY9ChwGjJXUBdiI5FTUCOBuSdeRDLZ3BiZHxCpJSyT1JDk1diLw1/S5RgAnAROA44FnPT5iZvXJo698yDn3vZpp33nqfnyj85a1/0IF6ImUK2SP5CDgJ8BUSa+msYuAW4FbJb0BfAWclH74T5N0P/AmyRVfZ6ZXbAGcDtwGtCAZZB+ZxocDd6YD8wtIrvoyMyt5ny39ir0vH5Vp9+qyJbed3IP02w31ihrbH/BlZWUxZcqUYqdhZo3Y1SOn8/dx72baY87vzQ5tNyliRmsn6aWIKKtsnb/ZbmZWR97+ZAlHDB2faZ/VpzO/PqJLETOqHS4kZmYFtnp18MNbJjLx3TXXAr122ZG0btG0iFnVHhcSM7MCenbGJ5xy25rT6Tf+qDvH7LltETOqfS4kZmYF8MXylexzxSi+WrkagD3ateLRMw6iyYYFm+KwaFxIzMxq2c3j3mHwyBmZ9uO/Opg92rUuYkaF5UJiZlZLZi9YyjeGjMm0f9yzI384bs8iZlQ3XEjMzGooIvjl3a/wxNS5mdiLFx/Oli2bFTGruuNCYmZWA5PfW8AJf5+QaV/93T35wX6Na3JYFxIzs/WwfOUqDrt2HB9+9iUA27Vuzpjf9KZZk/oxP1ZtciExM1tH907+gAsfnppp3zegJ/vvuEURMyouFxIzszzNW7KcHleOzrSP2XMb/vbD7vVyfqza5EJiZpaH3z36BndOfD/Tfu6CQ+mw+cZFzKh0uJCYmVVj2keL6Hf985n2b/vuyum9dypiRqXHhcTMrBKrVgfH/e0Fpn64CICNNtyAly89gk2b+WOzIv9GzMwqGDl1Lqff9XKmPfykMvrstnURMyptLiRmZqnFy1bQbdDTmfZ+O2zOvT/vyQYbNO7B9LVxITEzA4aO+g9/eebtTHvUuYfQeeuWRcyo/nAhMbNG7b35X3DotWMz7V8csiMDj9mteAnVQy4kZtYoRQSn3PYiY96al4m98rsjaLPJRkXMqn5yITGzRue5t+fxk+GTM+2h39+L7+zTvogZ1W8uJGbWaCxbsYr9r3qGRV+uAGCnLTfhqXMOoWkDvNlUXXIhMbNG4X9feI/f/9+bmfYjZxzIPh3bFDGjhqNgZVhSB0ljJE2XNE3S2RXWny8pJLXNig2UNFPSW5KOyorvK2lquu56pRPbSGom6b40PklSp0Idj5nVkt69k0cd+XjRMjpd+ESmiPxP9/bMGtzPRaQWFbJHshI4LyJeltQSeEnSqIh4U1IH4Ajgg/KNJXUF+gO7A9sBoyV1iYhVwE3AAGAi8CTQFxgJnAosjIidJfUHrgG+X8BjMrN65Lz7X+Ohl+dk2hMH9mGb1s2LmFHDVLBCEhFzgbnp8hJJ04F2wJvAUOAC4LGsXY4F7o2I5cB7kmYC+0maBbSKiAkAku4AjiMpJMcCg9L9HwRukKSIiEIdl5mtp/JeyLhxue2xY2v9pV75YCHfufHfmfagb3XlpwftUOuvY4k6GSNJTzntA0yS9G3gw4h4rcLUy+1Iehzl5qSxFelyxXj5PrMBImKlpEXAFsD8Cq8/gKRHQ8eOjevOZWaNyYpVq+n75/G8M+8LANps3JQJA/vQvGnju9lUXSp4IZG0KfAQcA7J6a6LgSMr27SSWFQTr26f3EDEMGAYQFlZmXsrZsVQ3vMoUE/kkVfmcO59r2Xa/zx1fw7u3LaaPay2FLSQSGpKUkTuioiHJe0J7ACU90baAy9L2o+kp9Eha/f2wEdpvH0lcbL2mSOpCdAaWFC4IzKzUrPwi6/Y54pRmfahu2zJrT/t0ehvNlWXClZI0iurhgPTI+I6gIiYCmyVtc0soCwi5ksaAdwt6TqSwfbOwOSIWCVpiaSewCTgROCv6VOMAE4CJgDHA896fMSsxNViT+SqJ6czbPy7mfaY83uzQ9tNau35LT+F7JEcBPwEmCrp1TR2UUQ8WdnGETFN0v0kg/ErgTPTK7YATgduA1qQDLKPTOPDgTvTgfkFJFd9mVkD959PlnDk0PGZ9tl9OnPuEV2KmFHjpsb2B3xZWVlMmTKl2GmY2XpYvTroP2wik2etOYP9+qAjadW8aRGzahwkvRQRZZWt8zfbzaxeeGb6J5x6+5o/Am/6UXeO3nPbImZk5VxIzKykfbF8JftcPoqvVq0GoFv71jxyxkFs6JtNlQwXEjMrWTeNfYdrnpqRaT9x1sHsvl3rImZklXEhMbOSM3vBUr4xZEymfeIB23P5sXsUMSOrjguJmZWMiODMu1/myakfZ2JTLjmctps2K2JWtjYuJGZWEia9+1++P2zNLEnX/M+efL+HpzSqD1xIzKyolq9cRa8hY/l48TIA2m3WgmfP70WzJp4fq75wITGzorln8gcMfHhqpv3AaQfQo9PmRczI1ocLiZnVuXlLltPjytGZdr9u23LDD/bx/Fj1lAuJmdWpLhePzHwnBOD53x5K+zYbFzEjqykXEjOrE/e/OJsLHno90x549K78otdORczIaosLiZkV1FcrV9PlkpE5sRcvPpwtW/qS3obChcTMCubMu1/midfnZtr+YmHD5EJiZrVuzsKlHHzNmJzYO1cd4/mxGigXEjOrVZ0ufCKnffOPu9N3D8/S25C5kJhZrXh2xiecclvuvX5mDe5XpGysLrmQmFmNrF4d7HhR7o1Px/2mN9tv4VveNhYuJGa23ireM73Prlsx/Kc9ipiRFYMLiZmts4VffMU+V4zKic24oi/Nm3p+rMbIhcTM1skhQ8bwwYKlmfYVx+7OTw7oVLyErOhcSMwsL698sJDv3PjvnJgH0w3yLCSS2gCdgeblsYgYX6ikzKy0VLykd8QvD6Jb+82Kk4yVnA3WtoGknwHjgX8Bv09/Dspjvw6SxkiaLmmapLPT+B8lzZD0uqRHJG2Wtc9ASTMlvSXpqKz4vpKmpuuuVzpFqKRmku5L45MkdVq3wzerp3r3Th4Fduvz7+UUkZ232pRZg/u5iFiOtRYS4GygB/B+RBwK7APMy2O/lcB5EbEb0BM4U1JXYBSwR0R0A/4DDARI1/UHdgf6AjdKKh+5uwkYQNIr6pyuBzgVWBgROwNDgWvyyMvM1uLLr1bR6cInuPzxNzOx1y49ktG/7lXErKxU5XNqa1lELJOEpGYRMUPSLmvbKSLmAnPT5SWSpgPtIuLprM0mAseny8cC90bEcuA9STOB/STNAlpFxAQASXcAxwEj030Gpfs/CNwgSREReRyXWf1T3gsZNy63PXZsrb3Ej2+ZxPMz52faZx66E785atdae35rePIpJHPS00+PAqMkLQQ+WpcXSU857QNMqrDqFOC+dLkdSWHJvG4aW5EuV4yX7zMbICJWSloEbAHMz9oeSQNIejR07Oh7QJtV5p15n9PnT+NyYu9dfYxvNmVrtdZCEhHfSRcHSRoDtCbpDeRF0qbAQ8A5EbE4K34xyemvu8pDlb18NfHq9skNRAwDhgGUlZW5t2L1V3nPo5Z7IhUH028/ZT96ddmyVp7bGr58BtsvL1+OiHHAE8Bt+Ty5pKYkReSuiHg4K34S8E3gR1mnoeYAHbJ2b0/S85mTLleM5+wjqQlJkVuQT25mBv/32kc5RaTphmLW4H4uIrZO8jm11VHSwIi4WlIz4AHg5bXtlF5ZNRyYHhHXZcX7Ar8FekXE0qxdRgB3S7oO2I5kUH1yRKyStERST5JTYycCf83a5yRgAslYy7MeH7FGoYY9kZWrVrPzxbknFiYMPIxtW7eo0fNa45RPITkZuEvSQOBQYGREDM1jv4OAnwBTJb2axi4CrgeakYy3AEyMiNMiYpqk+4E3SU55nRkRq9L9TifpBbUgOa1W/g4YDtyZDswvILnqy8yqMfDhqdwz+YNM+7v7tOO67+9dvISs3lNVf8BL6p7VbAr8HXiB5MObiFhrr6QUlZWVxZQpU9a+oVkD8+niZex31TM5sbevPJqmG+bzLQBr7CS9FBFlla2rrkfypwrthUDXNB7AYbWTnpkV2h6X/YvPl6/MtK87YS++2719NXuY5a/KQpJ++dDM6rF/z5zPD2/Jvere82NZbct3rq1+JN84z55r6/Kq9zCzYooIdhiYe7Opp889hC5btyxSRtaQrbWQSLoZ2JhkoP0WkqujJhc4LzNbT38Z/TZDR/8n0+7RqQ0PnHZgETOyhi6fHsmBEdFN0usR8XtJfwIeXuteZlanFi9bQbdBT+fEpv3+KDZp5rtFWGHl8z/sy/TnUknbAf8FdihcSma2rr59w/O8PmdRpn3h0btyWq+dipiRNSb5FJLH07m2/kjyRcQgOcVlZkX25keLOeb653Jinh/L6lo+hWRIOiPvQ5IeJxlwX1bYtMysWr1706nnb3JCD5x2AD06bV6khKwxy+ebSBPKFyJieUQsyo6ZWd265NGpOUVkq5bNmDW4n4uIFU2VPRJJ25BM095C0j6smWm3FclVXGZWh778ahW7XfpUTmzKlL/RduVSuPjwImVlVv2praOAn5LMtvsn1hSSxSRzZplZHak4zfv2Cz9i3LAB0Mt3LLTiq+6b7bcDt0v6n4h4qA5zMrPUtI8W0e/653NiM688miZ9DkuKSC3eGdFsfeVzYysXEbMiqNgL+c1Ru3DmoTsXKRuzqvmbSmYl5h/j3+XKJ6fnxL42P5Z7IlZCXEjMSsSq1cFOF+XOj/V/vzyYPdu3LlJGZvnJd9LGA4FO2dtHxB0Fysms0en75/HM+HhJTsyz9Fp9kc+kjXcCOwGvAuV3LAzAhcSshj787EsOGvxsTszzY1l9k8//1jKgq++Fbla7Kg6mn1DWniHH71WkbMzWXz6F5A1gG2BugXMxaxQef/0jfnn3Kzkxn8ay+iyfQtIWeFPSZGB5eTAivl2wrMwaoMpuNjX8pDL67LZ1kTIyqx35FJJBhU7CrKE7866XeWJqbqfevRBrKPL5QuK4ukjErCFa9OUK9vp97s2mJl/ch61aNq9iD7P6p8rZfyU9n/5cImlx1mOJpMVre2JJHSSNkTRd0jRJZ6fxzSWNkvR2+rNN1j4DJc2U9Jako7Li+0qamq67XunNFiQ1k3RfGp8kqVMNfhdmtarThU/kFJEendowa3A/FxFrcKosJBFxcPqzZUS0ynq0jIhWeTz3SuC8iNgN6AmcKakrcCHwTER0Bp5J26Tr+gO7A32BGyVtmD7XTcAAoHP66JvGTwUWRsTOwFDgmnU4drOCeHHWgq9dkfXuVcf4vunWYBXsYvWImEt6pVdELJE0nWRa+mOB3ulmtwNjgd+m8XvTm2i9J2kmsJ+kWUCriJgAIOkO4DhgZLrPoPS5HgRukCRfqmzFUrGA/OG4Pfhxz+2LlI1Z3aiTbz2lp5z2ASYBW6dFhoiYK2mrdLN2wMSs3eaksRXpcsV4+T6z0+daKWkRsAUwv8LrDyDp0dCxY8daOy6zckOemsGNY9/JiXkw3RqLghcSSZsCDwHnRMTiau4lXdmKqCZe3T65gYhhwDCAsrIy91as1ny1cjVdLhmZExv960PYeauWRcrIrO7lO9fW9kDniBgtqQXQJCKW5LFfU5IicldEPJyGP5G0bdob2Rb4NI3PATpk7d4e+CiNt68knr3PHElNgNbAgnyOyaym9rn8aRYuXZFpt2zehKmDjqpmD7OGaa33bJf0c5Lxh7+nofbAo3nsJ2A4MD0irstaNQI4KV0+CXgsK94/vRJrB5JB9cnpabAlknqmz3lihX3Kn+t44FmPj1ihvTPvczpd+EROEXnrD31dRKzRyqdHciawH8n4BhHxdta4RnUOAn4CTJX0ahq7CBgM3C/pVOAD4Hvp806TdD/wJskVX2dGRPkkkacDtwEtSAbZy88lDAfuTAfmF5Bc9WVWMBUH00/rtRMXHr1rkbIxKw35FJLlEfFV+dhGegpprX/1R8TzVD6GAdCnin2uBK6sJD4F2KOS+DLSQmRWSPdM/oCBD0/NiXkw3SyRTyEZJ+kioIWkI4AzgP8rbFpmpaGy+bHuG9CT/XfcokgZmZWefArJhSRf/JsK/AJ4ErilkEmZlYL+wyYw8d3cazfcCzH7unwKSQvg1oj4B0D6bfMWwNJCJmZWLPOWLKfHlaNzYq9deiStN25apIzMSls+heQZ4HDg87TdAnga8HwP1uBUHEw/avet+ftPyoqUjVn9kE8haR4R5UWEiPhc0sYFzMmszo2Z8Skn3/ZiTuy9q4+hmi/Qmlkqn0LyhaTuEfEyJDPxAl8WNi2zulOxF3L9D/bh23ttV6RszOqffArJOcADksq/Tb4t8P2CZWRWRwY+PJV7Jn+QE/Ngutm6y+fGVi9K2hXYheR7ITMiYsVadjMrWUu/WknXS/+VE3v+t4fSvo3P2JqtjyoLiaTDIuJZSd+tsKqzJLLmzjKrNyqextppy0145rzexUnGrIGorkfSC3gW+FYl6wJwIbF6440PF/HNvz6fE5t55dE02XCt082Z2VpUWUgi4jJJGwAjI+L+OszJrFZV7IX8tu+unN57pyJlY9bwVDtGEhGrJf0ScCGxeufmce8weOSMnJgH081qXz5XbY2SdD5wH/BFeTAifN8PK0krV61m54tzbzb1+K8OZo92rYuUkVnDlk8hOSX9eWZWLIAdaz8ds5o57E9jeXfeFzkx90LMCiufy393qItEzGriv58vZ98/5M6P9eblR7HxRgW/m7RZo7fWd5mk5iRTxx9M0hN5Drg5vReIWdEdePUzfLRozX/HH+7fkau+s2cRMzJrXPL5c+0OYAnw17T9A+BOfEMpK7IpsxZw/M0TcmI+jWVW9/IpJLtExF5Z7TGSXitUQmZrU9nNpjyYblY8+Xwb6xVJPcsbkvYHXihcSmZV+8f4d3OKyG7btmLW4H4uImZFlE+PZH/gREnls9t1BKZLmgpERHQrWHZmqcrmx3p90JG0au6bTZkVWz6FpG/BszCrRsVb3p7dpzPnHtGliBmZWbZ8Lv99vy4SMavo7U+WcMTQ8Tkx32zKrPQUbMY6SbdK+lTSG1mxvSVNlPSqpCmS9staN1DSTElvSToqK76vpKnpuuuVfopIaibpvjQ+SVKnQh2LrUXv3smjFnW68ImcIvLPU/dn1uB+LiJmJaiQU5/extdPiw0Bfh8RewOXpm0kdQX6A7un+9woacN0n5uAAUDn9FH+nKcCCyNiZ2AocE2hDsTqzqOvfJgzyeLGG23IrMH9OLhz2yJmZWbVKdjXfiNifCW9hABapcutgfK7Lh4L3BsRy4H3JM0E9pM0C2gVERMAJN0BHAeMTPcZlO7/IHCDJEVEFOSA7OvKeyHjxuW2x45d56dasWo1nSvMjzVxYB+2ad18vdMzs7pR1/NHnAP8S9K1JL2hA9N4O2Bi1nZz0tiKdLlivHyf2QARsVLSImALYH7FF5U0gKRXQ8eOHWvpUKy2nP/Aazz40pp/5hPK2jPk+L2q2cPMSkldF5LTgXMj4iFJJwDDgcNJbuFbUVQTZy3rcoMRw4BhAGVlZe6x1Jbynsd69kQ+XrSMnlc/kxPzzabM6p+6LiQnAWenyw8At6TLc4AOWdu1JzntNSddrhjP3meOpCYkp8o8tX09scslI1m+cnWm/Zf+e3Ps3u2q2cPMSlVd/+n3EcktfAEOA95Ol0cA/dMrsXYgGVSfHBFzgSWSeqZXa50IPJa1z0np8vHAsx4fKZKxY/PujTz39jw6XfhEThGZNbifi4hZPVawHomke4DeQFtJc4DLgJ8Df0l7EMtIxy0iYpqk+4E3gZXAmRGxKn2q00muAGtBMshePiI7HLgzHZhfQHLVl5WoyubHGv3rXuy81aZFysjMaosa2x/xZWVlMWXKlGKn0ahc9/RbXP/szEz7wJ224O6f96xmDzMrNZJeioiyytb5rj9WMIu+XMFev386J+abTZk1PH5HW0H0/fN4Zny8JNO+pN9u/OwbvjuzWUPkQmK1auqcRXzrhudzYp4fy6xhcyGxWpM9tQnAQ6cfyL7btylSNmZWV1xIrMaGjX+Hq56ckWm326wFL1x4WBEzMrO65EJi6+3Lr1ax26VP5cRe/t0RbL7JRkXKyMyKwYXE1kuvP47h/f8uzbSP7Lo1w06s9MrAulWDiSPNbP24kNg6+c8nSziyws2m3rnqGDbcwIPpZo2VC4nlreJg+pDju3FCWYcqtq5jtTilvZmtGxcSW6t7Jn/AwIen5sRmDe5XpGzMrNS4kFiVVq0OdrqonsyPVcMp7c1s/bmQWKVO/t/JjHlrXqa981abMvrXvarZw8waKxcSy1HZzaZmXNGX5k03LFJG68g9EbM650JiGRUH0399RBfO6tO5SNmYWX3hQmI8O+MTTrktd2p9D6abWb5cSBqxym429cBpB9Cj0+ZFysjM6iMXkkbqssfe4PYJ7+fE3Asxs/XhQtLILF62gm6Dcm829eqlR7DZxp4fy8zWjwtJI7L7pU/xxVerMu0Tytoz5Pi9ipiRmTUELiSNwKuzP+O4v72QE/PNpsystriQNHAVL+m9+cfd6bvHtkXKxswaIheSBuqRV+Zw7n2v5cQ8mG5mhbBBoZ5Y0q2SPpX0RoX4ryS9JWmapCFZ8YGSZqbrjsqK7ytparrueqXnYyQ1k3RfGp8kqVOhjqU+WbFqNZ0ufCKniEx+6UZmTfxjEbMys4asYIUEuA3omx2QdChwLNAtInYHrk3jXYH+wO7pPjdKKp+T4yZgANA5fZQ/56nAwojYGRgKXFPAY6kXfn3/q3S+eGSm3b9HB2YN7sdWK74oYlZm1tAV7NRWRIyvpJdwOjA4Ipan23yaxo8F7k3j70maCewnaRbQKiImAEi6AzgOGJnuMyjd/0HgBkmKiCjUMZWquYu+5ICrn82JzbzyaJr0OQz+iu/RYWYFVddjJF2Ab0i6ElgGnB8RLwLtgIlZ281JYyvS5Ypx0p+zASJipaRFwBbA/IovKmkASa+Gjh071ubxFF3ni59kxao1tfOvP9iHb+21XREzMrPGpq4LSROgDdAT6AHcL2lHoLLrUKOaOGtZlxuMGAYMAygrK2sQPZZx/5nHSbdOzol9bTDd9+gwszpQ14VkDvBwevppsqTVQNs0nn3P1vbAR2m8fSVxsvaZI6kJ0BpYUNj0i6+y+bGeOa8XO21ZgjebMrNGoZCD7ZV5FDgMQFIXYCOSU1EjgP7plVg7kAyqT46IucASST3Tq7VOBB5Ln2sEcFK6fDzwbEMfH7n2X2/lFJFvdG7LrMH91l5Exo51b8TMCqZgPRJJ9wC9gbaS5gCXAbcCt6aXBH8FnJR++E+TdD/wJrASODMiyufyOJ3kCrAWJIPs5ZclDQfuTAfmF5Bc9dUgLVq6gr0uz50fa/rlfWmxUT252ZSZNWhq4H/Ef01ZWVlMmTJl7RuWiCOHjuM/n3yeaf/um1059ZKTk4Z7GWZWRyS9FBFlla3zN9tL1NQ5i/jWDc/nxPzNdDMrRS4kJaji/FgPn3Eg3Tu2WXP1lb8XYmYlxIWkhNw5YRa/e2xapr39Fhsz7jeHFjEjM7O1cyEpAStWrc6Z2gTgld8dQZtNKtxsyt8LMbMS5EJSZI+9+iFn3/tqpv2LQ3Zk4DG7FS8hM7N15EJSJJ8t/Yq9Lx+VaR/SZUtuP7lHfjebck/EzEqIC0kRDB45g5vHvZNpP3teL3b83jfhDlwkzKzecSGpQzM/XcLh143PtH912M6cd+QuRczIzKzmXEjqwOrVwY9umcSEd/+bib122ZG0btHUl/SaWb3nQlJgY2Z8ysm3vZhp/+2H3enXzfdMN7OGw4WkQJZ+tZLuV4xi2YrVAOzRrhWPnnEQTTasME+mL+k1s3rOhaQAho1/h6uenJFpP/6rg9mjXesiZmRmVjguJLVozsKlHHzNmEz7xz078ofj9sxvZ/dEzKyeciGpBRHBL+95hSden5uJTb64D1u1bF7ErMzM6oYLSQ29OGsB37t5QqZ91Xf25If7N6z7wpuZVceFZD19tXI1h147lg8/+xKAbVs3Z+xvetOsiW82ZWaNiwvJerj/xdlc8NDrmfa9A3rSc8ctipiRmVnxuJCsg/mfL6fsD6Mz7WP23Ia//bB7fvNjmZk1UC4keXp33ucc9qdxmfZzFxxKh803LmJGZmalwYUkT599uQKAC/ruwhm9dy5yNmZmpcOFJE/dO7bxPdPNzCqxwdo3MTMzq1rBComkWyV9KumNStadLykktc2KDZQ0U9Jbko7Kiu8raWq67nqlI9uSmkm6L41PktSpUMcCJHNhlc+HZWZmGYXskdwG9K0YlNQBOAL4ICvWFegP7J7uc6Ok8i9k3AQMADqnj/LnPBVYGBE7A0OBawpyFGZmVq2CjZFExPgqeglDgQuAx7JixwL3RsRy4D1JM4H9JM0CWkXEBABJdwDHASPTfQal+z8I3CBJERG1eiC+X4iZWbXqdIxE0reBDyPitQqr2gGzs9pz0li7dLliPGefiFgJLAIq/VagpAGSpkiaMm/evBofh5mZrVFnV21J2hi4GDiystWVxKKaeHX7fD0YMQwYBlBWVrZuPRbfL8TMrFp12SPZCdgBeC09ZdUeeFnSNiQ9jQ5Z27YHPkrj7SuJk72PpCZAa2BBAfM3M7NK1FkhiYipEbFVRHSKiE4khaB7RHwMjAD6p1di7UAyqD45IuYCSyT1TK/WOpE1YysjgJPS5eOBZ2t9fCTb2LHujZiZVaKQl//eA0wAdpE0R9KpVW0bEdOA+4E3gaeAMyNiVbr6dOAWYCbwDslAO8BwYIt0YP7XwIUFORAzM6uWCvlHfCkqKyuLKVOmFDsNM7N6RdJLEVFW2Tp/s93MzGrEhcTMzGrEhcTMzGrEhcTMzGqk0Q22S5oHvF/sPKrQFphf7CTWU33Nvb7mDc69WBpr7ttHxJaVrWh0haSUSZpS1VURpa6+5l5f8wbnXizO/et8asvMzGrEhcTMzGrEhaS0DCt2AjVQX3Ovr3mDcy8W516Bx0jMzKxG3CMxM7MacSExM7MacSEpIEm3SvpU0htZsc0ljZL0dvqzTda6gZJmSnpL0lFZ8X0lTU3XXZ9OqV+M3P8oaYak1yU9Immz+pJ71rrzJYWktvUpd0m/SvObJmlIqeVexf+XvSVNlPRqeofS/Uot7/Q1O0gaI2l6+vs9O42X/Hu1mtzr9r0aEX4U6AEcAnQH3siKDQEuTJcvBK5Jl7sCrwHNSG4A9g6wYbpuMnAAyV0hRwJHFyn3I4Em6fI19Sn3NN4B+BfJF1Lb1pfcgUOB0UCztL1VqeVeRd5Pl78ucAwwttTyTl9zW5J7IwG0BP6T5ljy79Vqcq/T96p7JAUUEeP5+l0bjwVuT5dvB47Lit8bEcsj4j2S+6/sJ2lboFVETIjkX/uOrH3qNPeIeDoiVqbNiay5e2XJ554aClxA7i2Z60PupwODI2J5us2npZZ7FXkH0Cpdbs2au5uWTN5p7nMj4uV0eQkwHWhHPXivVpV7Xb9XXUjq3taR3PmR9OdWabwdMDtruzlprF26XDFebKew5iZjJZ+7pG8DH0bEaxVWlXzuQBfgG5ImSRonqUcaL/XczwH+KGk2cC0wMI2XbN6SOgH7AJOoZ+/VCrlnK/h71YWkdFR2PjKqiReNpIuBlcBd5aFKNiuZ3CVtDFwMXFrZ6kpiJZN7qgnQBugJ/Aa4Pz1/Xeq5nw6cGxEdgHNJ7moKJZq3pE2Bh4BzImJxdZtWEitq/lXlXlfvVReSuvdJ2o0k/Vl+mmIOyTn8cu1JTgXMYU23NDteFJJOAr4J/CjtAkPp574Tyfng1yTNSvN4WdI2lH7upLk8HInJwGqSyfdKPfeTgIfT5QeA8sH2kstbUlOSD+K7IqI853rxXq0i97p9rxZyIMiPAOhE7gDkH8kdwBuSLu9O7iDYu6wZBHuR5K/R8kGwY4qUe1/gTWDLCtuVfO4V1s1izWB7yecOnAZcni53ITk1oVLLvZK8pwO90+U+wEul+DtPX+sO4M8V4iX/Xq0m9zp9rxb8TdGYH8A9wFxgBUnFPxXYAngGeDv9uXnW9heTXEXxFllXTABlwBvpuhtIZyQoQu4z0w+xV9PHzfUl9wrrZ5EWkvqQO7AR8M80l5eBw0ot9yryPhh4Kf3gmgTsW2p5p695MMlpnNez/m8fUx/eq9XkXqfvVU+RYmZmNeIxEjMzqxEXEjMzqxEXEjMzqxEXEjMzqxEXEjMzqxEXErMik3S5pMML+Py7pjPwviJpJ0k/LNRrWePkQmJWQ5I2rMn+EXFpRIyurXwqcRzwWETsQ/KtZhcSq1X+HolZNSQ9SvLh2xz4S0QMS+OfA9cBRwHnkXyr+yySLw9OAs6IiFWSbgJ6AC2AByPiskpe4zbg8Yh4MJ3C5XbgW0BT4HsRMaPC9rsD/5u+1gbA/0TE2+m8SieSfBFtHsmXAd8EbgVWkUwx3gLYDXgPuD0ihtb4l2SNnnskZtU7JSL2JfnW71mStkjjm5BMB7I/8F/g+8BBEbE3yYf2j9LtLo6IMqAb0EtStzxec35EdAduAs6vZP1pJEVt7zSvOZL2BfqTzP76XZLiRUQ8CdwMDI2IQ0mm+nguIvZ2EbHa0qTYCZiVuLMkfSdd7gB0Jikcq0gmyoNkHql9gRfTm8q1YM0EfydIGkDyXtuW5MZCr6/lNcsn3nuJpChUNAG4WFJ7kskc35b0DeCRiFgKIGnEOh2lWQ24kJhVQVJv4HDggIhYKmksySkugGURsap8U5LTRAMr7L8DSY+iR0QsTE9hNWftlqc/V1HJezQi7pY0CegH/EvSz8pX5XloZrXKp7bMqtYaWJgWkV1JZkatzDPA8ZK2gsy9vrcnuTvgF8AiSVsDR9dGUpJ2BN6NiOuBESSnzcYD35HUQlJLkjGWyiwhuSWrWa1xj8Ssak8Bp0l6nWSm1ImVbRQRb0q6BHha0gYkM+CeGRETJb0CTCOZrvuFWsrr+8CPJa0APiaZYn6BpPtIZnp9H3iuin1fB1ZKeg24zeMkVht81ZZZAyRpEPB5RFxb7Fys4fOpLTMzqxH3SMzMrEbcIzEzsxpxITEzsxpxITEzsxpxITEzsxpxITEzsxr5f9ChVEz3+73SAAAAAElFTkSuQmCC\n",
      "text/plain": [
       "<Figure size 432x288 with 1 Axes>"
      ]
     },
     "metadata": {
      "needs_background": "light"
     },
     "output_type": "display_data"
    }
   ],
   "source": [
    "plt.plot(df.sqft, reg.predict(df[['sqft']]))\n",
    "plt.scatter(x,y, marker = '+', color = 'red')\n",
    "plt.xlabel('area in sqft')\n",
    "plt.ylabel('price in taka')\n",
    "plt.title('home prices in dhaka')"
   ]
  },
  {
   "cell_type": "code",
   "execution_count": 43,
   "id": "a0649c96",
   "metadata": {},
   "outputs": [
    {
     "name": "stderr",
     "output_type": "stream",
     "text": [
      "C:\\Users\\USER\\anaconda3\\lib\\site-packages\\sklearn\\base.py:450: UserWarning: X does not have valid feature names, but LinearRegression was fitted with feature names\n",
      "  warnings.warn(\n"
     ]
    },
    {
     "data": {
      "text/plain": [
       "array([39159.14786967])"
      ]
     },
     "execution_count": 43,
     "metadata": {},
     "output_type": "execute_result"
    }
   ],
   "source": [
    "reg.predict([[3500]])"
   ]
  },
  {
   "cell_type": "code",
   "execution_count": 44,
   "id": "89fa8c5d",
   "metadata": {},
   "outputs": [
    {
     "data": {
      "text/plain": [
       "array([9.53216374])"
      ]
     },
     "execution_count": 44,
     "metadata": {},
     "output_type": "execute_result"
    }
   ],
   "source": [
    "reg.coef_"
   ]
  },
  {
   "cell_type": "code",
   "execution_count": 45,
   "id": "482583bd",
   "metadata": {},
   "outputs": [
    {
     "data": {
      "text/plain": [
       "5796.574770258983"
      ]
     },
     "execution_count": 45,
     "metadata": {},
     "output_type": "execute_result"
    }
   ],
   "source": [
    "reg.intercept_"
   ]
  },
  {
   "cell_type": "markdown",
   "id": "d858efaa",
   "metadata": {},
   "source": [
    "# y = mx + c\n",
    "# here m = 9.5321\n",
    "   #        c = 5796.5747"
   ]
  }
 ],
 "metadata": {
  "kernelspec": {
   "display_name": "Python 3 (ipykernel)",
   "language": "python",
   "name": "python3"
  },
  "language_info": {
   "codemirror_mode": {
    "name": "ipython",
    "version": 3
   },
   "file_extension": ".py",
   "mimetype": "text/x-python",
   "name": "python",
   "nbconvert_exporter": "python",
   "pygments_lexer": "ipython3",
   "version": "3.9.12"
  }
 },
 "nbformat": 4,
 "nbformat_minor": 5
}
